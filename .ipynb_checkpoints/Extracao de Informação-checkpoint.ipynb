{
 "cells": [
  {
   "cell_type": "code",
   "execution_count": 27,
   "metadata": {},
   "outputs": [],
   "source": [
    "import pandas as pd"
   ]
  },
  {
   "cell_type": "code",
   "execution_count": 39,
   "metadata": {},
   "outputs": [],
   "source": [
    "# -*- coding: utf-8 -*-\n",
    "info = open('carros.txt','r').read().decode('utf8')\n",
    "car = pd.read_excel('corpus.xlsx',encoding = 'utf8')\n"
   ]
  },
  {
   "cell_type": "code",
   "execution_count": 40,
   "metadata": {},
   "outputs": [
    {
     "data": {
      "text/html": [
       "<div>\n",
       "<style scoped>\n",
       "    .dataframe tbody tr th:only-of-type {\n",
       "        vertical-align: middle;\n",
       "    }\n",
       "\n",
       "    .dataframe tbody tr th {\n",
       "        vertical-align: top;\n",
       "    }\n",
       "\n",
       "    .dataframe thead th {\n",
       "        text-align: right;\n",
       "    }\n",
       "</style>\n",
       "<table border=\"1\" class=\"dataframe\">\n",
       "  <thead>\n",
       "    <tr style=\"text-align: right;\">\n",
       "      <th></th>\n",
       "      <th>carro1</th>\n",
       "      <th>carro2</th>\n",
       "      <th>carro3</th>\n",
       "      <th>carro4</th>\n",
       "      <th>carro5</th>\n",
       "      <th>carro6</th>\n",
       "      <th>carro7</th>\n",
       "      <th>carro8</th>\n",
       "      <th>carro9</th>\n",
       "      <th>carro10</th>\n",
       "    </tr>\n",
       "  </thead>\n",
       "  <tbody>\n",
       "    <tr>\n",
       "      <th>0</th>\n",
       "      <td>KIA 2.4 10/11\\nR$51.000,00\\nDescrição\\n\\nsoren...</td>\n",
       "      <td>kombi 2006\\nR$20.000,00\\nDescrição\\n\\nAnuncian...</td>\n",
       "      <td>Logan Privilège 1.6 8V 2009\\nR$15.900,00\\n Des...</td>\n",
       "      <td>Astra Advantage 09\\nR$24.500,00\\nDescrição\\n\\n...</td>\n",
       "      <td>UNO CS/91\\nR$5.000,00\\nDescrição\\n\\nmille 1.0 ...</td>\n",
       "      <td>IDEA ATTRACTIVE 12/13\\nR$26.900,00\\nDescrição\\...</td>\n",
       "      <td>GOLF 2.0Flex Aut Tip ano 2009\\nR$25.900,00\\nDe...</td>\n",
       "      <td>ka SE 1.6\\nR$35.000,00\\nDescrição\\n\\nVendo For...</td>\n",
       "      <td>vendo vectra gls 99\\nR$12.000,00\\nDescrição\\n\\...</td>\n",
       "      <td>RANGER XLS 2.5 CD 4X2 2014\\nR$59.990,00\\nDescr...</td>\n",
       "    </tr>\n",
       "  </tbody>\n",
       "</table>\n",
       "</div>"
      ],
      "text/plain": [
       "                                              carro1  \\\n",
       "0  KIA 2.4 10/11\\nR$51.000,00\\nDescrição\\n\\nsoren...   \n",
       "\n",
       "                                              carro2  \\\n",
       "0  kombi 2006\\nR$20.000,00\\nDescrição\\n\\nAnuncian...   \n",
       "\n",
       "                                              carro3  \\\n",
       "0  Logan Privilège 1.6 8V 2009\\nR$15.900,00\\n Des...   \n",
       "\n",
       "                                              carro4  \\\n",
       "0  Astra Advantage 09\\nR$24.500,00\\nDescrição\\n\\n...   \n",
       "\n",
       "                                              carro5  \\\n",
       "0  UNO CS/91\\nR$5.000,00\\nDescrição\\n\\nmille 1.0 ...   \n",
       "\n",
       "                                              carro6  \\\n",
       "0  IDEA ATTRACTIVE 12/13\\nR$26.900,00\\nDescrição\\...   \n",
       "\n",
       "                                              carro7  \\\n",
       "0  GOLF 2.0Flex Aut Tip ano 2009\\nR$25.900,00\\nDe...   \n",
       "\n",
       "                                              carro8  \\\n",
       "0  ka SE 1.6\\nR$35.000,00\\nDescrição\\n\\nVendo For...   \n",
       "\n",
       "                                              carro9  \\\n",
       "0  vendo vectra gls 99\\nR$12.000,00\\nDescrição\\n\\...   \n",
       "\n",
       "                                             carro10  \n",
       "0  RANGER XLS 2.5 CD 4X2 2014\\nR$59.990,00\\nDescr...  "
      ]
     },
     "execution_count": 40,
     "metadata": {},
     "output_type": "execute_result"
    }
   ],
   "source": [
    "car"
   ]
  }
 ],
 "metadata": {
  "kernelspec": {
   "display_name": "Python 2",
   "language": "python",
   "name": "python2"
  },
  "language_info": {
   "codemirror_mode": {
    "name": "ipython",
    "version": 2
   },
   "file_extension": ".py",
   "mimetype": "text/x-python",
   "name": "python",
   "nbconvert_exporter": "python",
   "pygments_lexer": "ipython2",
   "version": "2.7.15rc1"
  }
 },
 "nbformat": 4,
 "nbformat_minor": 2
}
